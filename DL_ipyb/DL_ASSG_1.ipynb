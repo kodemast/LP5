{
  "nbformat": 4,
  "nbformat_minor": 0,
  "metadata": {
    "colab": {
      "provenance": []
    },
    "kernelspec": {
      "name": "python3",
      "display_name": "Python 3"
    },
    "language_info": {
      "name": "python"
    }
  },
  "cells": [
    {
      "cell_type": "code",
      "execution_count": 29,
      "metadata": {
        "id": "goARc6fRvGiW"
      },
      "outputs": [],
      "source": [
        "import tensorflow as tf\n",
        "from tensorflow.keras.datasets import boston_housing\n",
        "from sklearn import preprocessing"
      ]
    },
    {
      "cell_type": "code",
      "source": [
        "(train_x,train_y),(test_x,test_y) = boston_housing.load_data()"
      ],
      "metadata": {
        "id": "qQLi0ndov3W7",
        "outputId": "878b65e3-7635-4f2c-de7c-4f3b7a728592",
        "colab": {
          "base_uri": "https://localhost:8080/"
        }
      },
      "execution_count": 2,
      "outputs": [
        {
          "output_type": "stream",
          "name": "stdout",
          "text": [
            "Downloading data from https://storage.googleapis.com/tensorflow/tf-keras-datasets/boston_housing.npz\n",
            "57026/57026 [==============================] - 0s 0us/step\n"
          ]
        }
      ]
    },
    {
      "cell_type": "code",
      "source": [
        "print(\"train shape :\",train_x.shape)\n",
        "print(\"Test shape :\",test_x.shape)\n",
        "print(\"Actual Train Output\",train_y.shape)\n",
        "print(\"Actual Test Output\",test_y.shape)"
      ],
      "metadata": {
        "colab": {
          "base_uri": "https://localhost:8080/"
        },
        "id": "nAPCxCXQwXTw",
        "outputId": "aa52081a-4d0c-4949-ec7e-a450896d80f8"
      },
      "execution_count": 3,
      "outputs": [
        {
          "output_type": "stream",
          "name": "stdout",
          "text": [
            "train shape : (404, 13)\n",
            "Test shape : (102, 13)\n",
            "Actual Train Output (404,)\n",
            "Actual Test Output (102,)\n"
          ]
        }
      ]
    },
    {
      "cell_type": "code",
      "source": [
        "train_x"
      ],
      "metadata": {
        "colab": {
          "base_uri": "https://localhost:8080/"
        },
        "id": "hLHv9T6CAAim",
        "outputId": "c50653b1-979b-49ec-fa68-2568afaaa451"
      },
      "execution_count": 4,
      "outputs": [
        {
          "output_type": "execute_result",
          "data": {
            "text/plain": [
              "array([[1.23247e+00, 0.00000e+00, 8.14000e+00, ..., 2.10000e+01,\n",
              "        3.96900e+02, 1.87200e+01],\n",
              "       [2.17700e-02, 8.25000e+01, 2.03000e+00, ..., 1.47000e+01,\n",
              "        3.95380e+02, 3.11000e+00],\n",
              "       [4.89822e+00, 0.00000e+00, 1.81000e+01, ..., 2.02000e+01,\n",
              "        3.75520e+02, 3.26000e+00],\n",
              "       ...,\n",
              "       [3.46600e-02, 3.50000e+01, 6.06000e+00, ..., 1.69000e+01,\n",
              "        3.62250e+02, 7.83000e+00],\n",
              "       [2.14918e+00, 0.00000e+00, 1.95800e+01, ..., 1.47000e+01,\n",
              "        2.61950e+02, 1.57900e+01],\n",
              "       [1.43900e-02, 6.00000e+01, 2.93000e+00, ..., 1.56000e+01,\n",
              "        3.76700e+02, 4.38000e+00]])"
            ]
          },
          "metadata": {},
          "execution_count": 4
        }
      ]
    },
    {
      "cell_type": "code",
      "source": [
        "train_y"
      ],
      "metadata": {
        "colab": {
          "base_uri": "https://localhost:8080/"
        },
        "id": "9h8JIgIUxeaa",
        "outputId": "ba78fd79-7ba6-4814-ee62-13084d8e7de4"
      },
      "execution_count": 5,
      "outputs": [
        {
          "output_type": "execute_result",
          "data": {
            "text/plain": [
              "array([15.2, 42.3, 50. , 21.1, 17.7, 18.5, 11.3, 15.6, 15.6, 14.4, 12.1,\n",
              "       17.9, 23.1, 19.9, 15.7,  8.8, 50. , 22.5, 24.1, 27.5, 10.9, 30.8,\n",
              "       32.9, 24. , 18.5, 13.3, 22.9, 34.7, 16.6, 17.5, 22.3, 16.1, 14.9,\n",
              "       23.1, 34.9, 25. , 13.9, 13.1, 20.4, 20. , 15.2, 24.7, 22.2, 16.7,\n",
              "       12.7, 15.6, 18.4, 21. , 30.1, 15.1, 18.7,  9.6, 31.5, 24.8, 19.1,\n",
              "       22. , 14.5, 11. , 32. , 29.4, 20.3, 24.4, 14.6, 19.5, 14.1, 14.3,\n",
              "       15.6, 10.5,  6.3, 19.3, 19.3, 13.4, 36.4, 17.8, 13.5, 16.5,  8.3,\n",
              "       14.3, 16. , 13.4, 28.6, 43.5, 20.2, 22. , 23. , 20.7, 12.5, 48.5,\n",
              "       14.6, 13.4, 23.7, 50. , 21.7, 39.8, 38.7, 22.2, 34.9, 22.5, 31.1,\n",
              "       28.7, 46. , 41.7, 21. , 26.6, 15. , 24.4, 13.3, 21.2, 11.7, 21.7,\n",
              "       19.4, 50. , 22.8, 19.7, 24.7, 36.2, 14.2, 18.9, 18.3, 20.6, 24.6,\n",
              "       18.2,  8.7, 44. , 10.4, 13.2, 21.2, 37. , 30.7, 22.9, 20. , 19.3,\n",
              "       31.7, 32. , 23.1, 18.8, 10.9, 50. , 19.6,  5. , 14.4, 19.8, 13.8,\n",
              "       19.6, 23.9, 24.5, 25. , 19.9, 17.2, 24.6, 13.5, 26.6, 21.4, 11.9,\n",
              "       22.6, 19.6,  8.5, 23.7, 23.1, 22.4, 20.5, 23.6, 18.4, 35.2, 23.1,\n",
              "       27.9, 20.6, 23.7, 28. , 13.6, 27.1, 23.6, 20.6, 18.2, 21.7, 17.1,\n",
              "        8.4, 25.3, 13.8, 22.2, 18.4, 20.7, 31.6, 30.5, 20.3,  8.8, 19.2,\n",
              "       19.4, 23.1, 23. , 14.8, 48.8, 22.6, 33.4, 21.1, 13.6, 32.2, 13.1,\n",
              "       23.4, 18.9, 23.9, 11.8, 23.3, 22.8, 19.6, 16.7, 13.4, 22.2, 20.4,\n",
              "       21.8, 26.4, 14.9, 24.1, 23.8, 12.3, 29.1, 21. , 19.5, 23.3, 23.8,\n",
              "       17.8, 11.5, 21.7, 19.9, 25. , 33.4, 28.5, 21.4, 24.3, 27.5, 33.1,\n",
              "       16.2, 23.3, 48.3, 22.9, 22.8, 13.1, 12.7, 22.6, 15. , 15.3, 10.5,\n",
              "       24. , 18.5, 21.7, 19.5, 33.2, 23.2,  5. , 19.1, 12.7, 22.3, 10.2,\n",
              "       13.9, 16.3, 17. , 20.1, 29.9, 17.2, 37.3, 45.4, 17.8, 23.2, 29. ,\n",
              "       22. , 18. , 17.4, 34.6, 20.1, 25. , 15.6, 24.8, 28.2, 21.2, 21.4,\n",
              "       23.8, 31. , 26.2, 17.4, 37.9, 17.5, 20. ,  8.3, 23.9,  8.4, 13.8,\n",
              "        7.2, 11.7, 17.1, 21.6, 50. , 16.1, 20.4, 20.6, 21.4, 20.6, 36.5,\n",
              "        8.5, 24.8, 10.8, 21.9, 17.3, 18.9, 36.2, 14.9, 18.2, 33.3, 21.8,\n",
              "       19.7, 31.6, 24.8, 19.4, 22.8,  7.5, 44.8, 16.8, 18.7, 50. , 50. ,\n",
              "       19.5, 20.1, 50. , 17.2, 20.8, 19.3, 41.3, 20.4, 20.5, 13.8, 16.5,\n",
              "       23.9, 20.6, 31.5, 23.3, 16.8, 14. , 33.8, 36.1, 12.8, 18.3, 18.7,\n",
              "       19.1, 29. , 30.1, 50. , 50. , 22. , 11.9, 37.6, 50. , 22.7, 20.8,\n",
              "       23.5, 27.9, 50. , 19.3, 23.9, 22.6, 15.2, 21.7, 19.2, 43.8, 20.3,\n",
              "       33.2, 19.9, 22.5, 32.7, 22. , 17.1, 19. , 15. , 16.1, 25.1, 23.7,\n",
              "       28.7, 37.2, 22.6, 16.4, 25. , 29.8, 22.1, 17.4, 18.1, 30.3, 17.5,\n",
              "       24.7, 12.6, 26.5, 28.7, 13.3, 10.4, 24.4, 23. , 20. , 17.8,  7. ,\n",
              "       11.8, 24.4, 13.8, 19.4, 25.2, 19.4, 19.4, 29.1])"
            ]
          },
          "metadata": {},
          "execution_count": 5
        }
      ]
    },
    {
      "cell_type": "code",
      "source": [
        "train_x[0]"
      ],
      "metadata": {
        "colab": {
          "base_uri": "https://localhost:8080/"
        },
        "id": "QUtkhc3JxT_M",
        "outputId": "87d6f53b-a255-4ebb-d951-b04f48495339"
      },
      "execution_count": 6,
      "outputs": [
        {
          "output_type": "execute_result",
          "data": {
            "text/plain": [
              "array([  1.23247,   0.     ,   8.14   ,   0.     ,   0.538  ,   6.142  ,\n",
              "        91.7    ,   3.9769 ,   4.     , 307.     ,  21.     , 396.9    ,\n",
              "        18.72   ])"
            ]
          },
          "metadata": {},
          "execution_count": 6
        }
      ]
    },
    {
      "cell_type": "code",
      "source": [
        "test_x[0]"
      ],
      "metadata": {
        "colab": {
          "base_uri": "https://localhost:8080/"
        },
        "id": "RrFn2vUuwSoV",
        "outputId": "cf4349b5-0e5c-41a2-d472-440ef1487f92"
      },
      "execution_count": 7,
      "outputs": [
        {
          "output_type": "execute_result",
          "data": {
            "text/plain": [
              "array([ 18.0846,   0.    ,  18.1   ,   0.    ,   0.679 ,   6.434 ,\n",
              "       100.    ,   1.8347,  24.    , 666.    ,  20.2   ,  27.25  ,\n",
              "        29.05  ])"
            ]
          },
          "metadata": {},
          "execution_count": 7
        }
      ]
    },
    {
      "cell_type": "code",
      "source": [
        "train_x=preprocessing.normalize(train_x)\n",
        "test_x=preprocessing.normalize(test_x)"
      ],
      "metadata": {
        "id": "voBQHkyHyGqW"
      },
      "execution_count": 8,
      "outputs": []
    },
    {
      "cell_type": "code",
      "source": [
        "from tensorflow.keras.models import Sequential\n",
        "from tensorflow.keras.layers import Dense\n",
        "def HousePricePredictionModel():\n",
        "  model=Sequential()\n",
        "  model.add(Dense(128,activation='relu',input_shape=(train_x[0].shape)))\n",
        "  model.add(Dense(64,activation='relu'))\n",
        "  model.add(Dense(32,activation='relu'))\n",
        "  model.add(Dense(1))\n",
        "  model.compile(optimizer='rmsprop',loss='mse',metrics=['mae'])\n",
        "  return model\n"
      ],
      "metadata": {
        "id": "UQ1psx6EylPu"
      },
      "execution_count": 14,
      "outputs": []
    },
    {
      "cell_type": "code",
      "source": [
        "import numpy as np\n",
        "k=4\n",
        "num_val_samples= len(train_x)\n",
        "num_epochs = 100\n",
        "all_scores = []"
      ],
      "metadata": {
        "id": "ZDpn2YmK1ZDm"
      },
      "execution_count": 15,
      "outputs": []
    },
    {
      "cell_type": "code",
      "source": [
        "model = HousePricePredictionModel()\n",
        "history=model.fit(x=train_x,y=train_y,epochs= num_epochs,batch_size=1,verbose=1,validation_data=(test_x,test_y))"
      ],
      "metadata": {
        "colab": {
          "base_uri": "https://localhost:8080/"
        },
        "id": "_Dgpz-Th2Tps",
        "outputId": "4f561be9-4af7-48a1-c5b9-ae59bd5858d3"
      },
      "execution_count": 16,
      "outputs": [
        {
          "output_type": "stream",
          "name": "stdout",
          "text": [
            "Epoch 1/100\n",
            "404/404 [==============================] - 2s 3ms/step - loss: 144.8453 - mae: 8.5656 - val_loss: 77.4355 - val_mae: 6.2103\n",
            "Epoch 2/100\n",
            "404/404 [==============================] - 1s 4ms/step - loss: 67.5806 - mae: 5.8281 - val_loss: 71.2374 - val_mae: 5.9722\n",
            "Epoch 3/100\n",
            "404/404 [==============================] - 1s 4ms/step - loss: 64.1747 - mae: 5.5599 - val_loss: 58.1343 - val_mae: 5.5499\n",
            "Epoch 4/100\n",
            "404/404 [==============================] - 1s 2ms/step - loss: 59.8573 - mae: 5.4277 - val_loss: 75.4755 - val_mae: 6.1232\n",
            "Epoch 5/100\n",
            "404/404 [==============================] - 1s 2ms/step - loss: 58.8780 - mae: 5.2110 - val_loss: 62.0705 - val_mae: 5.5735\n",
            "Epoch 6/100\n",
            "404/404 [==============================] - 1s 2ms/step - loss: 56.9864 - mae: 5.2444 - val_loss: 60.1770 - val_mae: 5.4770\n",
            "Epoch 7/100\n",
            "404/404 [==============================] - 1s 2ms/step - loss: 57.1133 - mae: 5.0859 - val_loss: 51.2449 - val_mae: 5.3288\n",
            "Epoch 8/100\n",
            "404/404 [==============================] - 1s 2ms/step - loss: 54.3006 - mae: 4.9607 - val_loss: 52.2525 - val_mae: 5.4616\n",
            "Epoch 9/100\n",
            "404/404 [==============================] - 1s 2ms/step - loss: 54.1168 - mae: 4.9428 - val_loss: 49.2428 - val_mae: 5.1560\n",
            "Epoch 10/100\n",
            "404/404 [==============================] - 1s 2ms/step - loss: 50.9755 - mae: 4.8817 - val_loss: 50.4078 - val_mae: 5.0051\n",
            "Epoch 11/100\n",
            "404/404 [==============================] - 1s 2ms/step - loss: 47.9427 - mae: 4.7859 - val_loss: 59.3822 - val_mae: 5.3688\n",
            "Epoch 12/100\n",
            "404/404 [==============================] - 1s 2ms/step - loss: 48.6959 - mae: 4.5889 - val_loss: 46.7378 - val_mae: 5.0913\n",
            "Epoch 13/100\n",
            "404/404 [==============================] - 1s 2ms/step - loss: 46.5797 - mae: 4.6033 - val_loss: 42.8961 - val_mae: 4.6780\n",
            "Epoch 14/100\n",
            "404/404 [==============================] - 1s 2ms/step - loss: 45.5880 - mae: 4.5281 - val_loss: 41.3815 - val_mae: 4.5054\n",
            "Epoch 15/100\n",
            "404/404 [==============================] - 1s 3ms/step - loss: 43.2856 - mae: 4.5297 - val_loss: 40.5013 - val_mae: 4.4651\n",
            "Epoch 16/100\n",
            "404/404 [==============================] - 2s 4ms/step - loss: 41.5855 - mae: 4.3676 - val_loss: 49.2269 - val_mae: 5.7401\n",
            "Epoch 17/100\n",
            "404/404 [==============================] - 1s 2ms/step - loss: 40.5370 - mae: 4.3641 - val_loss: 40.0126 - val_mae: 4.3639\n",
            "Epoch 18/100\n",
            "404/404 [==============================] - 1s 2ms/step - loss: 38.2108 - mae: 4.2696 - val_loss: 40.5128 - val_mae: 4.3644\n",
            "Epoch 19/100\n",
            "404/404 [==============================] - 1s 2ms/step - loss: 37.4653 - mae: 4.2208 - val_loss: 34.6685 - val_mae: 4.2001\n",
            "Epoch 20/100\n",
            "404/404 [==============================] - 1s 2ms/step - loss: 35.3340 - mae: 4.1747 - val_loss: 35.1571 - val_mae: 4.5004\n",
            "Epoch 21/100\n",
            "404/404 [==============================] - 1s 2ms/step - loss: 35.7669 - mae: 4.1492 - val_loss: 32.6230 - val_mae: 3.9674\n",
            "Epoch 22/100\n",
            "404/404 [==============================] - 1s 2ms/step - loss: 34.5081 - mae: 4.2233 - val_loss: 31.0362 - val_mae: 3.9092\n",
            "Epoch 23/100\n",
            "404/404 [==============================] - 1s 2ms/step - loss: 34.1740 - mae: 4.1490 - val_loss: 32.3767 - val_mae: 4.2711\n",
            "Epoch 24/100\n",
            "404/404 [==============================] - 1s 2ms/step - loss: 32.8644 - mae: 4.0729 - val_loss: 33.4395 - val_mae: 4.0098\n",
            "Epoch 25/100\n",
            "404/404 [==============================] - 1s 2ms/step - loss: 31.8036 - mae: 4.0412 - val_loss: 29.0001 - val_mae: 3.8129\n",
            "Epoch 26/100\n",
            "404/404 [==============================] - 1s 2ms/step - loss: 31.3935 - mae: 4.0360 - val_loss: 28.7616 - val_mae: 3.7612\n",
            "Epoch 27/100\n",
            "404/404 [==============================] - 1s 2ms/step - loss: 30.8986 - mae: 3.8980 - val_loss: 30.1580 - val_mae: 4.1045\n",
            "Epoch 28/100\n",
            "404/404 [==============================] - 1s 3ms/step - loss: 31.1945 - mae: 3.8853 - val_loss: 27.3745 - val_mae: 3.7797\n",
            "Epoch 29/100\n",
            "404/404 [==============================] - 1s 4ms/step - loss: 29.8303 - mae: 3.8359 - val_loss: 33.9479 - val_mae: 4.0008\n",
            "Epoch 30/100\n",
            "404/404 [==============================] - 1s 3ms/step - loss: 29.6605 - mae: 3.8359 - val_loss: 28.5905 - val_mae: 4.0506\n",
            "Epoch 31/100\n",
            "404/404 [==============================] - 1s 2ms/step - loss: 28.8163 - mae: 3.8418 - val_loss: 33.1848 - val_mae: 3.9147\n",
            "Epoch 32/100\n",
            "404/404 [==============================] - 1s 2ms/step - loss: 27.6635 - mae: 3.7600 - val_loss: 31.9050 - val_mae: 3.8721\n",
            "Epoch 33/100\n",
            "404/404 [==============================] - 1s 2ms/step - loss: 27.8387 - mae: 3.6990 - val_loss: 30.7552 - val_mae: 4.4231\n",
            "Epoch 34/100\n",
            "404/404 [==============================] - 1s 2ms/step - loss: 27.2875 - mae: 3.7686 - val_loss: 27.3504 - val_mae: 3.6830\n",
            "Epoch 35/100\n",
            "404/404 [==============================] - 1s 2ms/step - loss: 27.1347 - mae: 3.6929 - val_loss: 27.8434 - val_mae: 4.1050\n",
            "Epoch 36/100\n",
            "404/404 [==============================] - 1s 2ms/step - loss: 26.9271 - mae: 3.7822 - val_loss: 26.4598 - val_mae: 3.5804\n",
            "Epoch 37/100\n",
            "404/404 [==============================] - 1s 2ms/step - loss: 25.8985 - mae: 3.5937 - val_loss: 28.0092 - val_mae: 3.7362\n",
            "Epoch 38/100\n",
            "404/404 [==============================] - 1s 2ms/step - loss: 24.1380 - mae: 3.6029 - val_loss: 27.7421 - val_mae: 3.8962\n",
            "Epoch 39/100\n",
            "404/404 [==============================] - 1s 2ms/step - loss: 24.9486 - mae: 3.6375 - val_loss: 25.8373 - val_mae: 3.7832\n",
            "Epoch 40/100\n",
            "404/404 [==============================] - 1s 2ms/step - loss: 24.3522 - mae: 3.5901 - val_loss: 27.2108 - val_mae: 3.6608\n",
            "Epoch 41/100\n",
            "404/404 [==============================] - 1s 3ms/step - loss: 23.8132 - mae: 3.5292 - val_loss: 29.8924 - val_mae: 3.7868\n",
            "Epoch 42/100\n",
            "404/404 [==============================] - 2s 4ms/step - loss: 22.8199 - mae: 3.3954 - val_loss: 30.3488 - val_mae: 4.2149\n",
            "Epoch 43/100\n",
            "404/404 [==============================] - 1s 2ms/step - loss: 23.0359 - mae: 3.4840 - val_loss: 25.5489 - val_mae: 3.6377\n",
            "Epoch 44/100\n",
            "404/404 [==============================] - 1s 2ms/step - loss: 21.8971 - mae: 3.4424 - val_loss: 28.8724 - val_mae: 3.7591\n",
            "Epoch 45/100\n",
            "404/404 [==============================] - 1s 2ms/step - loss: 22.9427 - mae: 3.4216 - val_loss: 26.6019 - val_mae: 3.8466\n",
            "Epoch 46/100\n",
            "404/404 [==============================] - 1s 2ms/step - loss: 22.5369 - mae: 3.4567 - val_loss: 27.4471 - val_mae: 3.6961\n",
            "Epoch 47/100\n",
            "404/404 [==============================] - 1s 2ms/step - loss: 21.6083 - mae: 3.3879 - val_loss: 30.8999 - val_mae: 3.8331\n",
            "Epoch 48/100\n",
            "404/404 [==============================] - 1s 2ms/step - loss: 22.7746 - mae: 3.4153 - val_loss: 49.3452 - val_mae: 5.7676\n",
            "Epoch 49/100\n",
            "404/404 [==============================] - 1s 2ms/step - loss: 21.1144 - mae: 3.3385 - val_loss: 27.2669 - val_mae: 3.9713\n",
            "Epoch 50/100\n",
            "404/404 [==============================] - 1s 2ms/step - loss: 20.3538 - mae: 3.3283 - val_loss: 25.1483 - val_mae: 3.5538\n",
            "Epoch 51/100\n",
            "404/404 [==============================] - 1s 2ms/step - loss: 19.4765 - mae: 3.2301 - val_loss: 45.1154 - val_mae: 4.7210\n",
            "Epoch 52/100\n",
            "404/404 [==============================] - 1s 2ms/step - loss: 21.2307 - mae: 3.3997 - val_loss: 31.1967 - val_mae: 3.9634\n",
            "Epoch 53/100\n",
            "404/404 [==============================] - 1s 2ms/step - loss: 18.7290 - mae: 3.1283 - val_loss: 26.4465 - val_mae: 3.6434\n",
            "Epoch 54/100\n",
            "404/404 [==============================] - 1s 3ms/step - loss: 20.3015 - mae: 3.2875 - val_loss: 25.3998 - val_mae: 3.6192\n",
            "Epoch 55/100\n",
            "404/404 [==============================] - 2s 4ms/step - loss: 20.0490 - mae: 3.2159 - val_loss: 27.9216 - val_mae: 3.7262\n",
            "Epoch 56/100\n",
            "404/404 [==============================] - 1s 2ms/step - loss: 20.2668 - mae: 3.1935 - val_loss: 30.9698 - val_mae: 3.8903\n",
            "Epoch 57/100\n",
            "404/404 [==============================] - 1s 2ms/step - loss: 18.8647 - mae: 3.0740 - val_loss: 29.5396 - val_mae: 4.0246\n",
            "Epoch 58/100\n",
            "404/404 [==============================] - 1s 2ms/step - loss: 19.0116 - mae: 3.0751 - val_loss: 28.4067 - val_mae: 3.7575\n",
            "Epoch 59/100\n",
            "404/404 [==============================] - 1s 2ms/step - loss: 19.4116 - mae: 3.1526 - val_loss: 28.9306 - val_mae: 3.7194\n",
            "Epoch 60/100\n",
            "404/404 [==============================] - 1s 2ms/step - loss: 19.7146 - mae: 3.1982 - val_loss: 33.9525 - val_mae: 4.0737\n",
            "Epoch 61/100\n",
            "404/404 [==============================] - 1s 2ms/step - loss: 19.9732 - mae: 3.1478 - val_loss: 33.7157 - val_mae: 4.0155\n",
            "Epoch 62/100\n",
            "404/404 [==============================] - 1s 2ms/step - loss: 19.3216 - mae: 3.0946 - val_loss: 31.7398 - val_mae: 3.9048\n",
            "Epoch 63/100\n",
            "404/404 [==============================] - 1s 2ms/step - loss: 19.7728 - mae: 3.1356 - val_loss: 26.6762 - val_mae: 3.7493\n",
            "Epoch 64/100\n",
            "404/404 [==============================] - 1s 2ms/step - loss: 18.5639 - mae: 3.0888 - val_loss: 32.9856 - val_mae: 3.9704\n",
            "Epoch 65/100\n",
            "404/404 [==============================] - 1s 2ms/step - loss: 18.7228 - mae: 3.0729 - val_loss: 31.5736 - val_mae: 4.2025\n",
            "Epoch 66/100\n",
            "404/404 [==============================] - 1s 2ms/step - loss: 18.4041 - mae: 3.0810 - val_loss: 31.8529 - val_mae: 4.0018\n",
            "Epoch 67/100\n",
            "404/404 [==============================] - 1s 3ms/step - loss: 18.2764 - mae: 3.0085 - val_loss: 29.3535 - val_mae: 3.7557\n",
            "Epoch 68/100\n",
            "404/404 [==============================] - 1s 4ms/step - loss: 18.0703 - mae: 3.0418 - val_loss: 31.2802 - val_mae: 3.8444\n",
            "Epoch 69/100\n",
            "404/404 [==============================] - 1s 3ms/step - loss: 19.3108 - mae: 3.1938 - val_loss: 27.3351 - val_mae: 3.6378\n",
            "Epoch 70/100\n",
            "404/404 [==============================] - 1s 2ms/step - loss: 18.2121 - mae: 3.0879 - val_loss: 27.7515 - val_mae: 3.5827\n",
            "Epoch 71/100\n",
            "404/404 [==============================] - 1s 2ms/step - loss: 16.2693 - mae: 2.9541 - val_loss: 30.8379 - val_mae: 3.8008\n",
            "Epoch 72/100\n",
            "404/404 [==============================] - 1s 3ms/step - loss: 16.2567 - mae: 3.0116 - val_loss: 26.7979 - val_mae: 3.7199\n",
            "Epoch 73/100\n",
            "404/404 [==============================] - 1s 2ms/step - loss: 18.0082 - mae: 2.9972 - val_loss: 28.9555 - val_mae: 3.7440\n",
            "Epoch 74/100\n",
            "404/404 [==============================] - 1s 2ms/step - loss: 18.4032 - mae: 3.0406 - val_loss: 28.3449 - val_mae: 3.6614\n",
            "Epoch 75/100\n",
            "404/404 [==============================] - 1s 2ms/step - loss: 16.8879 - mae: 3.0491 - val_loss: 28.8689 - val_mae: 3.7832\n",
            "Epoch 76/100\n",
            "404/404 [==============================] - 1s 2ms/step - loss: 20.0306 - mae: 3.1608 - val_loss: 29.7529 - val_mae: 3.7730\n",
            "Epoch 77/100\n",
            "404/404 [==============================] - 1s 2ms/step - loss: 17.1381 - mae: 3.0337 - val_loss: 27.1435 - val_mae: 3.5382\n",
            "Epoch 78/100\n",
            "404/404 [==============================] - 1s 2ms/step - loss: 17.8785 - mae: 3.0261 - val_loss: 34.2777 - val_mae: 4.2076\n",
            "Epoch 79/100\n",
            "404/404 [==============================] - 1s 2ms/step - loss: 18.5281 - mae: 3.0904 - val_loss: 28.8662 - val_mae: 3.7169\n",
            "Epoch 80/100\n",
            "404/404 [==============================] - 1s 3ms/step - loss: 17.5904 - mae: 2.9711 - val_loss: 28.0435 - val_mae: 3.6200\n",
            "Epoch 81/100\n",
            "404/404 [==============================] - 1s 4ms/step - loss: 16.0254 - mae: 2.8796 - val_loss: 32.3401 - val_mae: 3.8308\n",
            "Epoch 82/100\n",
            "404/404 [==============================] - 1s 3ms/step - loss: 16.4965 - mae: 2.9349 - val_loss: 28.9516 - val_mae: 3.6509\n",
            "Epoch 83/100\n",
            "404/404 [==============================] - 1s 2ms/step - loss: 17.4625 - mae: 3.0038 - val_loss: 26.8136 - val_mae: 3.6152\n",
            "Epoch 84/100\n",
            "404/404 [==============================] - 1s 2ms/step - loss: 17.9735 - mae: 3.0214 - val_loss: 27.2139 - val_mae: 3.6689\n",
            "Epoch 85/100\n",
            "404/404 [==============================] - 1s 2ms/step - loss: 17.3188 - mae: 3.0724 - val_loss: 27.6996 - val_mae: 3.5416\n",
            "Epoch 86/100\n",
            "404/404 [==============================] - 1s 3ms/step - loss: 16.4808 - mae: 2.9481 - val_loss: 28.8699 - val_mae: 3.6075\n",
            "Epoch 87/100\n",
            "404/404 [==============================] - 1s 2ms/step - loss: 16.9786 - mae: 2.9490 - val_loss: 26.2962 - val_mae: 3.5332\n",
            "Epoch 88/100\n",
            "404/404 [==============================] - 1s 2ms/step - loss: 18.1487 - mae: 2.9498 - val_loss: 28.3775 - val_mae: 3.5248\n",
            "Epoch 89/100\n",
            "404/404 [==============================] - 1s 2ms/step - loss: 17.6628 - mae: 2.9732 - val_loss: 28.6751 - val_mae: 3.5729\n",
            "Epoch 90/100\n",
            "404/404 [==============================] - 1s 3ms/step - loss: 16.2643 - mae: 2.9707 - val_loss: 27.8491 - val_mae: 3.6278\n",
            "Epoch 91/100\n",
            "404/404 [==============================] - 1s 2ms/step - loss: 16.7713 - mae: 2.8900 - val_loss: 27.9043 - val_mae: 3.7280\n",
            "Epoch 92/100\n",
            "404/404 [==============================] - 1s 2ms/step - loss: 17.3695 - mae: 3.0549 - val_loss: 28.3721 - val_mae: 3.6195\n",
            "Epoch 93/100\n",
            "404/404 [==============================] - 1s 3ms/step - loss: 16.9071 - mae: 2.9478 - val_loss: 31.3617 - val_mae: 3.9684\n",
            "Epoch 94/100\n",
            "404/404 [==============================] - 1s 3ms/step - loss: 17.0700 - mae: 2.9736 - val_loss: 27.0465 - val_mae: 3.4908\n",
            "Epoch 95/100\n",
            "404/404 [==============================] - 1s 3ms/step - loss: 16.4129 - mae: 2.8822 - val_loss: 29.5436 - val_mae: 3.5987\n",
            "Epoch 96/100\n",
            "404/404 [==============================] - 1s 2ms/step - loss: 16.9891 - mae: 2.9399 - val_loss: 32.3018 - val_mae: 3.7676\n",
            "Epoch 97/100\n",
            "404/404 [==============================] - 1s 2ms/step - loss: 15.9144 - mae: 2.8326 - val_loss: 30.9631 - val_mae: 3.7541\n",
            "Epoch 98/100\n",
            "404/404 [==============================] - 1s 2ms/step - loss: 17.2574 - mae: 3.0225 - val_loss: 33.8897 - val_mae: 4.0100\n",
            "Epoch 99/100\n",
            "404/404 [==============================] - 1s 2ms/step - loss: 16.7426 - mae: 2.9090 - val_loss: 28.3216 - val_mae: 3.5843\n",
            "Epoch 100/100\n",
            "404/404 [==============================] - 1s 2ms/step - loss: 16.4978 - mae: 2.8695 - val_loss: 27.9153 - val_mae: 3.5664\n"
          ]
        }
      ]
    },
    {
      "cell_type": "code",
      "source": [
        "test_x[0]"
      ],
      "metadata": {
        "id": "JjridT3nt9BR",
        "outputId": "1241cb65-fb41-46ff-b421-169a67052a20",
        "colab": {
          "base_uri": "https://localhost:8080/"
        }
      },
      "execution_count": 17,
      "outputs": [
        {
          "output_type": "execute_result",
          "data": {
            "text/plain": [
              "array([0.02675675, 0.        , 0.02677953, 0.        , 0.0010046 ,\n",
              "       0.00951931, 0.14795322, 0.0027145 , 0.03550877, 0.98536841,\n",
              "       0.02988655, 0.04031725, 0.04298041])"
            ]
          },
          "metadata": {},
          "execution_count": 17
        }
      ]
    },
    {
      "cell_type": "code",
      "source": [
        "test = [test_x[0].tolist()];\n",
        "print(\"Actual Output: \", test_y[0])\n",
        "print(\"Predicted Output: \", model.predict(test))\n",
        "\n",
        "test = [test_x[1].tolist()];\n",
        "print(\"Actual Output: \", test_y[1])\n",
        "print(\"Predicted Output: \", model.predict(test))\n",
        "\n",
        "test = [test_x[2].tolist()];\n",
        "print(\"Actual Output: \", test_y[2])\n",
        "print(\"Predicted Output: \", model.predict(test))"
      ],
      "metadata": {
        "colab": {
          "base_uri": "https://localhost:8080/"
        },
        "id": "YzUzn1OwEK4w",
        "outputId": "a4f8fc9f-6972-4f2f-d13f-6da21f080925"
      },
      "execution_count": 28,
      "outputs": [
        {
          "output_type": "stream",
          "name": "stdout",
          "text": [
            "Actual Output:  7.2\n",
            "1/1 [==============================] - 0s 38ms/step\n",
            "Predicted Output:  [[10.166481]]\n",
            "Actual Output:  18.8\n",
            "1/1 [==============================] - 0s 36ms/step\n",
            "Predicted Output:  [[18.866968]]\n",
            "Actual Output:  19.0\n",
            "1/1 [==============================] - 0s 35ms/step\n",
            "Predicted Output:  [[23.140656]]\n"
          ]
        }
      ]
    }
  ]
}